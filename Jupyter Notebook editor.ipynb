{
    "cells": [
        {
            "cell_type": "markdown",
            "metadata": {
                "collapsed": true
            },
            "source": "# My Jupyter Notebook on IBM Watson Studio"
        },
        {
            "cell_type": "markdown",
            "metadata": {},
            "source": "**Anna Smirnova Berezina**"
        },
        {
            "cell_type": "markdown",
            "metadata": {},
            "source": "Data Scientist"
        },
        {
            "cell_type": "markdown",
            "metadata": {},
            "source": "_I am interested in data science because of \npractical insights in data analysis.\nMachine learning proficiency.\nStatistical modeling skills.\nEnhanced skill set.\nDiverse career path opportunities._"
        },
        {
            "cell_type": "markdown",
            "metadata": {},
            "source": "Summarize"
        },
        {
            "cell_type": "code",
            "execution_count": 2,
            "metadata": {},
            "outputs": [
                {
                    "data": {
                        "text/plain": "8"
                    },
                    "execution_count": 2,
                    "metadata": {},
                    "output_type": "execute_result"
                }
            ],
            "source": "1+7"
        },
        {
            "cell_type": "markdown",
            "metadata": {},
            "source": "- bulleted list\n- bulleted list\n- bulleted list"
        },
        {
            "cell_type": "markdown",
            "metadata": {},
            "source": "1. ordered list\n2. ordered list\n3. ordered list"
        },
        {
            "cell_type": "markdown",
            "metadata": {},
            "source": "| *Data Science Tools* |\n|--------------------------:|\n|Anaconda|\n|Jupiter Notebooks|\n|R Studio|\n|Spyder|\n|Zeppelin|\n"
        },
        {
            "cell_type": "markdown",
            "metadata": {},
            "source": "![alt text](https://github.com/adam-p/markdown-here/raw/master/src/common/images/icon48.png \"Logo Title Text 1\")"
        },
        {
            "cell_type": "markdown",
            "metadata": {},
            "source": "[I'm a relative reference to a repository file](../blob/master/LICENSE)"
        },
        {
            "cell_type": "code",
            "execution_count": null,
            "metadata": {},
            "outputs": [],
            "source": ""
        }
    ],
    "metadata": {
        "kernelspec": {
            "display_name": "Python 3.10",
            "language": "python",
            "name": "python3"
        },
        "language_info": {
            "codemirror_mode": {
                "name": "ipython",
                "version": 3
            },
            "file_extension": ".py",
            "mimetype": "text/x-python",
            "name": "python",
            "nbconvert_exporter": "python",
            "pygments_lexer": "ipython3",
            "version": "3.10.14"
        }
    },
    "nbformat": 4,
    "nbformat_minor": 1
}